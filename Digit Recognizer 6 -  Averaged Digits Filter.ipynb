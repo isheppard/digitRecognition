{
 "cells": [
  {
   "cell_type": "code",
   "execution_count": 1,
   "metadata": {
    "collapsed": false
   },
   "outputs": [
    {
     "name": "stderr",
     "output_type": "stream",
     "text": [
      "Using gpu device 0: GeForce GTX 960 (CNMeM is disabled, cuDNN not available)\n"
     ]
    }
   ],
   "source": [
    "from __future__ import print_function\n",
    "from scipy.misc import imsave\n",
    "import numpy as np\n",
    "import time\n",
    "import os\n",
    "import h5py\n",
    "\n",
    "#import os #change theano device to cpu (it is gpu as default)    \n",
    "#os.environ['THEANO_FLAGS'] = \"device=cpu\"    \n",
    "import theano\n",
    "import sklearn"
   ]
  },
  {
   "cell_type": "code",
   "execution_count": 2,
   "metadata": {
    "collapsed": false
   },
   "outputs": [
    {
     "data": {
      "text/plain": [
       "'gpu'"
      ]
     },
     "execution_count": 2,
     "metadata": {},
     "output_type": "execute_result"
    }
   ],
   "source": [
    "theano.config.device"
   ]
  },
  {
   "cell_type": "code",
   "execution_count": 8,
   "metadata": {
    "collapsed": true
   },
   "outputs": [],
   "source": [
    "# load data\n",
    "data = np.genfromtxt('train.csv', delimiter=',')\n",
    "data = data[1:,:] # ignore header\n",
    "\n",
    "X_train = data[:,1:]\n",
    "Y_train = data[:,0:1]"
   ]
  },
  {
   "cell_type": "code",
   "execution_count": 16,
   "metadata": {
    "collapsed": true
   },
   "outputs": [],
   "source": [
    "img_height = 28\n",
    "img_width = 28\n",
    "num_labels = 10"
   ]
  },
  {
   "cell_type": "markdown",
   "metadata": {},
   "source": [
    "## Average digit"
   ]
  },
  {
   "cell_type": "code",
   "execution_count": 9,
   "metadata": {
    "collapsed": false
   },
   "outputs": [],
   "source": [
    "#automate process for remaining digits\n",
    "avg_digit_array = np.zeros([img_height,0])\n",
    "for i in xrange(10):\n",
    "    sorted_array = data[data[:,0] == i]\n",
    "    sorted_array = sorted_array[:,1:]\n",
    "    \n",
    "    \n",
    "    avg_array = np.sum(sorted_array,axis=0)\n",
    "    avg_array = np.reshape(avg_array,(img_height,img_width))\n",
    "    avg_array /= 255\n",
    "    avg_digit_array = np.append(avg_digit_array,avg_array,axis=1)\n"
   ]
  },
  {
   "cell_type": "markdown",
   "metadata": {},
   "source": [
    "## what would accuracy be just using these averaged digits as filters ?"
   ]
  },
  {
   "cell_type": "code",
   "execution_count": 11,
   "metadata": {
    "collapsed": false
   },
   "outputs": [],
   "source": [
    "prediction = np.zeros([42000,1])\n",
    "temp_sum = np.zeros([num_labels,1])\n",
    "                      \n",
    "for i in xrange(42000):\n",
    "    X_temp = np.reshape(X_train[i:i+1,:],[img_width,img_height])\n",
    "    for j in xrange(10):\n",
    "        temp = X_temp * avg_digit_array[0:img_width,img_height*j:img_width*(j+1)]\n",
    "        temp_sum[j] = temp.sum()\n",
    "        #filtered_digit_array = np.append(filtered_digit_array, temp, axis=1)\n",
    "    prediction[i] = np.argmax(temp_sum)"
   ]
  },
  {
   "cell_type": "markdown",
   "metadata": {},
   "source": [
    "# NOT TOO BAD! not great either"
   ]
  },
  {
   "cell_type": "code",
   "execution_count": 13,
   "metadata": {
    "collapsed": false
   },
   "outputs": [
    {
     "name": "stdout",
     "output_type": "stream",
     "text": [
      "0.672261904762\n"
     ]
    }
   ],
   "source": [
    "accuracy = sum((prediction.flatten() == Y_train.flatten()))/float(len(Y_train))\n",
    "print(accuracy)"
   ]
  },
  {
   "cell_type": "markdown",
   "metadata": {},
   "source": [
    "## visualize filters applied to one of each digit (0-9)"
   ]
  },
  {
   "cell_type": "code",
   "execution_count": 14,
   "metadata": {
    "collapsed": false
   },
   "outputs": [],
   "source": [
    "#grab one example of each filter from X_train\n",
    "X_sample = np.zeros([num_labels,img_height*img_width])\n",
    "for i in xrange(10):\n",
    "    #take first example that is == i. not super efficient method\n",
    "    X_sample[i,:] = data[data[:,0] == i][0,1:]\n",
    "\n",
    "    \n",
    "sample_filter_array = np.zeros([img_height*num_labels, img_width*num_labels])    \n",
    "sample_prediction = np.zeros([num_labels, 1])\n",
    "temp_sum = np.zeros([num_lables, 1])\n",
    "                      \n",
    "for i in xrange(num_labels):\n",
    "    X_temp = np.reshape(X_sample[i:i+1,:],[img_height, img_width])\n",
    "    for j in xrange(10):\n",
    "        temp = X_temp * avg_digit_array[0:img_height, img_width*j:img_height*(j+1)]\n",
    "        temp_sum[j] = temp.sum()\n",
    "        sample_filter_array[img_height*j:img_width*(j+1),img_height*i:img_width*(i+1)] = temp\n",
    "    prediction[i] = np.argmax(temp_sum)\n",
    "\n",
    "X_sample_array = np.reshape(X_sample,[img_height*num_labels, img_width])\n",
    "\n",
    "reshape_avg_digit_array = np.zeros([img_height*num_labels, img_width])\n",
    "for i in xrange():\n",
    "        reshape_avg_digit_array[28*i:28*(i+1),:] = avg_digit_array[:,28*i:28*(i+1)] \n",
    "avg_digit_array_T = np.reshape(avg_digit_array,[28*10,28])\n"
   ]
  },
  {
   "cell_type": "code",
   "execution_count": 15,
   "metadata": {
    "collapsed": false
   },
   "outputs": [],
   "source": [
    "import numpy as np\n",
    "import matplotlib.pyplot as plt \n",
    "\n",
    "#plt.figure(figsize=(10, 10))\n",
    "f, (a0, a1, a2) = plt.subplots(1,3, gridspec_kw = {'width_ratios':[1, 1, 10]}, figsize=(15,15))\n",
    "\n",
    "a0.set_title(\"Input\")\n",
    "a1.set_title(\"Filter\")\n",
    "a2.set_title(\"Output (row[i] is result of Input[i] passing though each filter)\")\n",
    "\n",
    "a0.axis('off')\n",
    "a1.axis('off')\n",
    "a2.axis('off')\n",
    "\n",
    "a0.imshow(X_sample_array,cmap='Greys_r')\n",
    "a1.imshow(reshape_avg_digit_array,cmap='Greys_r')\n",
    "a2.imshow(sample_filter_array,cmap='Greys_r')\n",
    "#f.savefig('avg_digit_filter.pdf')\n",
    "plt.show()\n",
    "\n"
   ]
  },
  {
   "cell_type": "code",
   "execution_count": null,
   "metadata": {
    "collapsed": false
   },
   "outputs": [],
   "source": []
  }
 ],
 "metadata": {
  "anaconda-cloud": {},
  "kernelspec": {
   "display_name": "Python [Root]",
   "language": "python",
   "name": "Python [Root]"
  },
  "language_info": {
   "codemirror_mode": {
    "name": "ipython",
    "version": 2
   },
   "file_extension": ".py",
   "mimetype": "text/x-python",
   "name": "python",
   "nbconvert_exporter": "python",
   "pygments_lexer": "ipython2",
   "version": "2.7.12"
  }
 },
 "nbformat": 4,
 "nbformat_minor": 0
}
