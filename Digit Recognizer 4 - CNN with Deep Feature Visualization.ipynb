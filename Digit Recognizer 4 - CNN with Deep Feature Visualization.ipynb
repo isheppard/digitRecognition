{
 "cells": [
  {
   "cell_type": "code",
   "execution_count": 1,
   "metadata": {
    "collapsed": false
   },
   "outputs": [
    {
     "name": "stderr",
     "output_type": "stream",
     "text": [
      "Using gpu device 0: GeForce GTX 960 (CNMeM is disabled, cuDNN not available)\n"
     ]
    }
   ],
   "source": [
    "from __future__ import print_function\n",
    "from scipy.misc import imsave\n",
    "import numpy as np\n",
    "import time\n",
    "import os\n",
    "import h5py\n",
    "\n",
    "#import os #change theano device to cpu (it is gpu as default)    \n",
    "#os.environ['THEANO_FLAGS'] = \"device=cpu\"    \n",
    "import theano\n",
    "import sklearn"
   ]
  },
  {
   "cell_type": "code",
   "execution_count": 2,
   "metadata": {
    "collapsed": false
   },
   "outputs": [
    {
     "data": {
      "text/plain": [
       "'gpu'"
      ]
     },
     "execution_count": 2,
     "metadata": {},
     "output_type": "execute_result"
    }
   ],
   "source": [
    "theano.config.device"
   ]
  },
  {
   "cell_type": "code",
   "execution_count": 3,
   "metadata": {
    "collapsed": true
   },
   "outputs": [],
   "source": [
    "# load data\n",
    "data = np.genfromtxt('train.csv', delimiter=',')\n",
    "data = data[1:,:] # ignore header\n",
    "\n",
    "X_final = np.genfromtxt('test.csv', delimiter=',')\n",
    "X_final = X_final[1:,:]"
   ]
  },
  {
   "cell_type": "code",
   "execution_count": 10,
   "metadata": {
    "collapsed": false
   },
   "outputs": [
    {
     "name": "stdout",
     "output_type": "stream",
     "text": [
      "Training set   : 14700 data points\n",
      "Validation set : 6300 data points\n",
      "Test set       : 21000 data points\n",
      "X_train shape: (14700L, 1L, 28L, 28L)\n",
      "14700 train samples\n",
      "21000 test samples\n",
      "28000 final samples\n"
     ]
    }
   ],
   "source": [
    "#split data into train, CV, test\n",
    "\n",
    "from keras.models import Sequential\n",
    "from keras.layers import Dense, Dropout, Activation, Flatten\n",
    "from keras.layers import Convolution2D, MaxPooling2D\n",
    "from keras.utils import np_utils\n",
    "\n",
    "\n",
    "from keras.utils import np_utils\n",
    "from sklearn.cross_validation import train_test_split\n",
    "\n",
    "train_set, test_set = train_test_split(data, test_size=0.50, random_state=42)\n",
    "train_set, val_set = train_test_split(train_set, test_size=0.30, random_state=42)\n",
    "\n",
    "print ('Training set   : %d data points' % len(train_set))\n",
    "print ('Validation set : %d data points' % len(val_set))\n",
    "print ('Test set       : %d data points' % len(test_set))\n",
    "\n",
    "\n",
    "batch_size = 128\n",
    "nb_classes = 10\n",
    "nb_epoch = 2\n",
    "\n",
    "# input image dimensions\n",
    "img_rows, img_cols = 28, 28\n",
    "# number of convolutional filters to use\n",
    "nb_filters = 32\n",
    "# size of pooling area for max pooling\n",
    "nb_pool = 2\n",
    "# convolution kernel size\n",
    "kernel_size = (3, 3)\n",
    "               \n",
    "# split into input (X) and output (Y) variables\n",
    "y_train = train_set[:,0]\n",
    "X_train = train_set[:,1:]\n",
    "\n",
    "y_val = val_set[:,0]\n",
    "X_val = val_set[:,1:]\n",
    "\n",
    "y_test = test_set[:,0]\n",
    "X_test = test_set[:,1:]\n",
    "\n",
    "y_all = data[:,0]\n",
    "X_all = data[:,1:]\n",
    "\n",
    "img_rows = 28\n",
    "img_cols = 28\n",
    "X_train = X_train.reshape(X_train.shape[0], 1, img_rows, img_cols)\n",
    "X_test = X_test.reshape(X_test.shape[0], 1, img_rows, img_cols)\n",
    "X_final = X_final.reshape(X_final.shape[0], 1, img_rows, img_cols)\n",
    "\n",
    "X_train = X_train.astype('float32')\n",
    "X_test = X_test.astype('float32')\n",
    "X_final = X_final.astype('float32')\n",
    "\n",
    "X_train /= 255\n",
    "X_test /= 255\n",
    "X_final /= 255\n",
    "\n",
    "print('X_train shape:', X_train.shape)\n",
    "print(X_train.shape[0], 'train samples')\n",
    "print(X_test.shape[0], 'test samples')\n",
    "print(X_final.shape[0], 'final samples')\n",
    "\n",
    "# convert class vectors to binary class matrices\n",
    "Y_train = np_utils.to_categorical(y_train, nb_classes)\n",
    "Y_test = np_utils.to_categorical(y_test, nb_classes)\n"
   ]
  },
  {
   "cell_type": "code",
   "execution_count": 11,
   "metadata": {
    "collapsed": false
   },
   "outputs": [
    {
     "name": "stdout",
     "output_type": "stream",
     "text": [
      "6.0\n",
      "[ 0.  0.  0.  0.  0.  0.  1.  0.  0.  0.]\n"
     ]
    }
   ],
   "source": [
    "print (y_train[0])\n",
    "print (Y_train[0])"
   ]
  },
  {
   "cell_type": "code",
   "execution_count": 12,
   "metadata": {
    "collapsed": false
   },
   "outputs": [
    {
     "name": "stdout",
     "output_type": "stream",
     "text": [
      "Train on 14700 samples, validate on 21000 samples\n",
      "Epoch 1/2\n",
      "14700/14700 [==============================] - 9s - loss: 0.8337 - acc: 0.7361 - val_loss: 0.2773 - val_acc: 0.9175\n",
      "Epoch 2/2\n",
      "14700/14700 [==============================] - 9s - loss: 0.3230 - acc: 0.9021 - val_loss: 0.1817 - val_acc: 0.9458\n",
      "Test score: 0.18168841905\n",
      "Test accuracy: 0.94580952381\n"
     ]
    }
   ],
   "source": [
    "model = Sequential()\n",
    "\n",
    "model.add(Convolution2D(nb_filters, kernel_size[0], kernel_size[1],\n",
    "                        border_mode='valid',\n",
    "                        input_shape=(1, img_rows, img_cols)))\n",
    "model.add(Activation('relu'))\n",
    "model.add(Convolution2D(nb_filters, kernel_size[0], kernel_size[1]))\n",
    "model.add(Activation('relu'))\n",
    "model.add(MaxPooling2D(pool_size=(nb_pool, nb_pool)))\n",
    "model.add(Dropout(0.25))\n",
    "\n",
    "model.add(Flatten())\n",
    "model.add(Dense(128))\n",
    "model.add(Activation('relu'))\n",
    "model.add(Dropout(0.5))\n",
    "model.add(Dense(nb_classes))\n",
    "model.add(Activation('softmax'))\n",
    "\n",
    "model.compile(loss='categorical_crossentropy',\n",
    "              optimizer='adadelta',\n",
    "              metrics=['accuracy'])\n",
    "\n",
    "model.fit(X_train, Y_train, batch_size=batch_size, nb_epoch=nb_epoch,\n",
    "          verbose=1, validation_data=(X_test, Y_test))\n",
    "score = model.evaluate(X_test, Y_test, verbose=0)\n",
    "print('Test score:', score[0])\n",
    "print('Test accuracy:', score[1])"
   ]
  },
  {
   "cell_type": "code",
   "execution_count": 12,
   "metadata": {
    "collapsed": false
   },
   "outputs": [],
   "source": [
    "y_final = model.predict(X_final, verbose=False)\n",
    "\n",
    "predictions = np.argmax(y_final, axis=1)\n",
    "predictions = np.reshape(predictions,[predictions.size, 1])\n",
    "\n",
    "img_id = np.linspace(1,predictions.shape[0],predictions.shape[0])\n",
    "img_id = np.reshape(img_id, [img_id.shape[0], 1])\n",
    "\n",
    "img_id_and_predictions = np.append(img_id, predictions, axis=1)\n",
    "\n",
    "np.savetxt(\"my_submission5.csv\", img_id_and_predictions, delimiter=',',fmt='%.0f', header= 'ImageId,Label', comments='' )"
   ]
  },
  {
   "cell_type": "markdown",
   "metadata": {},
   "source": [
    "## Let's try to get these weights and filters"
   ]
  },
  {
   "cell_type": "code",
   "execution_count": 30,
   "metadata": {
    "collapsed": false
   },
   "outputs": [
    {
     "data": {
      "text/plain": [
       "(32L, 1L, 3L, 3L)"
      ]
     },
     "execution_count": 30,
     "metadata": {},
     "output_type": "execute_result"
    }
   ],
   "source": [
    "weights=model.layers[0].get_weights()\n",
    "weights[0].shape"
   ]
  },
  {
   "cell_type": "code",
   "execution_count": 21,
   "metadata": {
    "collapsed": false
   },
   "outputs": [],
   "source": [
    "model2 = Sequential()\n",
    "\n",
    "model2.add(Convolution2D(nb_filters, kernel_size[0], kernel_size[1],\n",
    "                        border_mode='valid',\n",
    "                        input_shape=(1, img_rows, img_cols), \n",
    "                        weights=model.layers[0].get_weights()))\n",
    "model2.add(Activation('relu'))\n",
    "#model2.add(Convolution2D(nb_filters, kernel_size[0], kernel_size[1]))\n",
    "#model2.add(Activation('relu'))\n",
    "\n",
    "activations = model2.predict(X_train)"
   ]
  },
  {
   "cell_type": "code",
   "execution_count": 22,
   "metadata": {
    "collapsed": false
   },
   "outputs": [
    {
     "name": "stdout",
     "output_type": "stream",
     "text": [
      "(14700L, 32L, 26L, 26L)\n"
     ]
    }
   ],
   "source": [
    "print(activations.shape)\n"
   ]
  },
  {
   "cell_type": "code",
   "execution_count": 23,
   "metadata": {
    "collapsed": false
   },
   "outputs": [
    {
     "data": {
      "text/plain": [
       "(14700L, 1L, 28L, 28L)"
      ]
     },
     "execution_count": 23,
     "metadata": {},
     "output_type": "execute_result"
    }
   ],
   "source": [
    "X_train.shape"
   ]
  },
  {
   "cell_type": "code",
   "execution_count": 24,
   "metadata": {
    "collapsed": false
   },
   "outputs": [],
   "source": [
    "a= activations[0,5,:,:]\n",
    "a /= a.max() \n",
    "import matplotlib.pyplot as plt\n",
    "axes = plt.gca()\n",
    "axes.set_xlim([0,26])\n",
    "axes.set_ylim([0,26])\n",
    "plt.imshow(a)\n",
    "plt.colorbar(orientation='vertical')\n",
    "plt.show()"
   ]
  },
  {
   "cell_type": "code",
   "execution_count": 25,
   "metadata": {
    "collapsed": false
   },
   "outputs": [
    {
     "data": {
      "text/plain": [
       "(26L, 26L)"
      ]
     },
     "execution_count": 25,
     "metadata": {},
     "output_type": "execute_result"
    }
   ],
   "source": [
    "a.shape"
   ]
  },
  {
   "cell_type": "code",
   "execution_count": 26,
   "metadata": {
    "collapsed": false
   },
   "outputs": [
    {
     "data": {
      "text/plain": [
       "(28L, 28L)"
      ]
     },
     "execution_count": 26,
     "metadata": {},
     "output_type": "execute_result"
    }
   ],
   "source": [
    "X_sample = X_train[0,0,:,:]\n",
    "X_sample.shape"
   ]
  },
  {
   "cell_type": "code",
   "execution_count": 27,
   "metadata": {
    "collapsed": false
   },
   "outputs": [
    {
     "data": {
      "text/plain": [
       "0.12101162"
      ]
     },
     "execution_count": 27,
     "metadata": {},
     "output_type": "execute_result"
    }
   ],
   "source": [
    "(activations[0,0,:,:]).max()"
   ]
  },
  {
   "cell_type": "markdown",
   "metadata": {
    "collapsed": false
   },
   "source": [
    "## figure(1) shows ouput of first layer with image #1000 as input\n",
    "## figure(2) shows image #1000\n",
    "\n"
   ]
  },
  {
   "cell_type": "code",
   "execution_count": 28,
   "metadata": {
    "collapsed": false
   },
   "outputs": [],
   "source": [
    "import matplotlib.pyplot as plt\n",
    "\n",
    "j = 1000\n",
    "plt.figure(1)\n",
    "axes.set_xlim([0,25])\n",
    "axes.set_ylim([0,25])\n",
    "\n",
    "for i in xrange(32):\n",
    "    plt.subplot(8,4,i+1)\n",
    "    plt.axis('off')\n",
    "    plt.imshow(activations[j,i,:,:]/(activations[j,i,:,:]).max())\n",
    "\n",
    "plt.tight_layout(pad=0, w_pad=0, h_pad=0)\n",
    "plt.show()\n",
    "\n",
    "plt.figure(2)\n",
    "axes.set_xlim([0,27])\n",
    "axes.set_ylim([0,27])\n",
    "plt.imshow(X_train[j,0,:,:]/(X_train[j,0,:,:]).max())\n",
    "plt.show()"
   ]
  }
 ],
 "metadata": {
  "anaconda-cloud": {},
  "kernelspec": {
   "display_name": "Python [Root]",
   "language": "python",
   "name": "Python [Root]"
  },
  "language_info": {
   "codemirror_mode": {
    "name": "ipython",
    "version": 2
   },
   "file_extension": ".py",
   "mimetype": "text/x-python",
   "name": "python",
   "nbconvert_exporter": "python",
   "pygments_lexer": "ipython2",
   "version": "2.7.12"
  }
 },
 "nbformat": 4,
 "nbformat_minor": 0
}
